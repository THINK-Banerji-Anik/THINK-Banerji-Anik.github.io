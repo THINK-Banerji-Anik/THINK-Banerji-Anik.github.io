{
  "nbformat": 4,
  "nbformat_minor": 0,
  "metadata": {
    "colab": {
      "provenance": []
    },
    "kernelspec": {
      "name": "python3",
      "display_name": "Python 3"
    },
    "language_info": {
      "name": "python"
    }
  },
  "cells": [
    {
      "cell_type": "code",
      "execution_count": null,
      "metadata": {
        "colab": {
          "base_uri": "https://localhost:8080/"
        },
        "id": "BjpFpid_vIUt",
        "outputId": "b1ea0a89-d78d-4751-e6be-a37828cc3e8c"
      },
      "outputs": [
        {
          "output_type": "stream",
          "name": "stderr",
          "text": [
            "/tmp/ipython-input-402454538.py:44: MatplotlibDeprecationWarning: The get_cmap function was deprecated in Matplotlib 3.7 and will be removed in 3.11. Use ``matplotlib.colormaps[name]`` or ``matplotlib.colormaps.get_cmap()`` or ``pyplot.get_cmap()`` instead.\n",
            "  cmap = cm.get_cmap('viridis')\n"
          ]
        },
        {
          "output_type": "stream",
          "name": "stdout",
          "text": [
            "Map saved to interpolated_population_map.html\n"
          ]
        }
      ],
      "source": [
        "import pandas as pd\n",
        "import numpy as np\n",
        "import folium\n",
        "from scipy.interpolate import griddata\n",
        "import matplotlib.pyplot as plt\n",
        "from matplotlib import cm\n",
        "import base64\n",
        "from io import BytesIO\n",
        "\n",
        "#parameters\n",
        "file = 'Population.csv'\n",
        "power = 4\n",
        "grid_resolution = 500\n",
        "\n",
        "#load data\n",
        "df = pd.read_csv(file)\n",
        "lats = df['Latitude'].values\n",
        "lons = df['Longitude'].values\n",
        "values = df['Population Within 1 km Radius'].values\n",
        "\n",
        "#define grid size\n",
        "lat_min, lat_max = lats.min(), lats.max()\n",
        "lon_min, lon_max = lons.min(), lons.max()\n",
        "\n",
        "grid_lat, grid_lon = np.mgrid[lat_min:lat_max:complex(grid_resolution),\n",
        "                              lon_min:lon_max:complex(grid_resolution)]\n",
        "grid_points = np.vstack((grid_lat.ravel(), grid_lon.ravel())).T\n",
        "\n",
        "#inverse distance weighting function\n",
        "def idw(x, y, z, xi, yi, power=4):\n",
        "    dist = np.sqrt((xi[:, None]-x[None,:])**2+(yi[:,None]-y[None,:])**2)\n",
        "    dist[dist==0] = 1e-10  #no division by zero\n",
        "    weights = 1/dist**power\n",
        "    weights /= weights.sum(axis=1, keepdims=True)\n",
        "    zi = np.dot(weights, z)\n",
        "    return zi\n",
        "\n",
        "#interpolate values\n",
        "interpolated = idw(lons, lats, values, grid_lon.ravel(), grid_lat.ravel())\n",
        "interpolated_grid = interpolated.reshape(grid_lat.shape)\n",
        "\n",
        "#generate colormap image\n",
        "fig, ax = plt.subplots(figsize=(6, 6))\n",
        "cmap = cm.get_cmap('viridis')\n",
        "norm = plt.Normalize(vmin=interpolated_grid.min(), vmax=interpolated_grid.max())\n",
        "ax.axis('off')\n",
        "ax.imshow(interpolated_grid, cmap=cmap, extent=(lon_min, lon_max, lat_min, lat_max), origin='lower')\n",
        "\n",
        "#save image\n",
        "buf = BytesIO()\n",
        "plt.savefig(buf, format='png', bbox_inches='tight', pad_inches=0, transparent=True)\n",
        "plt.close(fig)\n",
        "b64 = base64.b64encode(buf.getvalue()).decode('utf-8')\n",
        "image_url = f'data:image/png;base64,{b64}'\n",
        "\n",
        "#create folium map\n",
        "center = [(lat_min+lat_max)/2, (lon_min+lon_max)/2]\n",
        "m = folium.Map(location=center, zoom_start=13, tiles='cartodbpositron')\n",
        "\n",
        "#overlay image\n",
        "img_bounds = [[lat_min, lon_min], [lat_max, lon_max]]\n",
        "folium.raster_layers.ImageOverlay(image_url, bounds=img_bounds, opacity=0.6).add_to(m)\n",
        "\n",
        "#add data points (if you want)\n",
        "'''\n",
        "for lat, lon, pop in zip(lats, lons, values):\n",
        "    folium.CircleMarker(\n",
        "        location=[lat, lon],\n",
        "        radius=5,\n",
        "        popup=f\"Pop: {pop}\",\n",
        "        color='red',\n",
        "        fill=True,\n",
        "        fill_opacity=0.7\n",
        "    ).add_to(m)\n",
        "'''\n",
        "\n",
        "#save map\n",
        "m.save('interpolated_population_map.html')\n",
        "print(\"Map saved to interpolated_population_map.html\")"
      ]
    }
  ]
}